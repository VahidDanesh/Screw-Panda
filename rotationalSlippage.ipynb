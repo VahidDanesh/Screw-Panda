{
 "cells": [
  {
   "cell_type": "code",
   "execution_count": 10,
   "metadata": {},
   "outputs": [],
   "source": [
    "\"\"\"\n",
    "Demonstration of rotational slippage using the Screw-Panda framework.\n",
    "This example shows how to rotate a box around a screw axis that passes\n",
    "through the bottom back edge, and computes the corresponding end-effector\n",
    "trajectory for a Panda robot.\n",
    "\"\"\"\n",
    "# We will do the imports required for this notebook here\n",
    "%load_ext autoreload\n",
    "%autoreload 2\n",
    "import numpy as np\n",
    "from spatialmath import SE3, SO3\n",
    "import matplotlib.pyplot as plt\n",
    "from mpl_toolkits.mplot3d import Axes3D\n",
    "import roboticstoolbox as rtb\n",
    "import pytransform3d.transformations as pt3d\n",
    "\n",
    "# Import from Screw-Panda framework\n",
    "from utils.objects import ManipulableBox, SpatialObject\n",
    "from utils.screw_utils import (\n",
    "    generate_trajectory, \n",
    "    pose_to_screw_parameters, \n",
    "    twist_from_poses\n",
    ")"
   ]
  },
  {
   "cell_type": "code",
   "execution_count": 16,
   "metadata": {},
   "outputs": [],
   "source": [
    "def create_box_and_screw_axis():\n",
    "    \"\"\"Create a box and define a screw axis through its bottom back edge.\"\"\"\n",
    "    # Create box with dimensions (x, y, z) in meters\n",
    "    box = ManipulableBox(dimensions=(0.1, 0.07, 0.03), name=\"target_box\")\n",
    "    \n",
    "    # Initial pose - slightly above the ground\n",
    "    initial_pose = SE3(0.5, 0, 0.015)\n",
    "    box.update_pose(initial_pose)\n",
    "    \n",
    "    \n",
    "    # Get the bottom back edge (edge 1 in the ManipulableBox class)\n",
    "    \n",
    "    edge_start, edge_end = box.get_edge_in_world(1)\n",
    "\n",
    "    # Middle point of the edge as the point on the screw axis\n",
    "    point_on_axis = box.get_edge_contact_pose(edge_idx=1, contact_param=0.5).t\n",
    "\n",
    "    # Direction of the edge - this will be our screw axis direction\n",
    "    axis_direction = edge_end - edge_start\n",
    "    axis_direction = axis_direction / np.linalg.norm(axis_direction)\n",
    "    \n",
    "    print(f\"Box dimensions: {box.length} x {box.width} x {box.height} meters\")\n",
    "    print(f\"Initial pose: \\n{box.pose}\")\n",
    "    print(f\"Bottom back edge: from \\n{edge_start.shape} to \\n{edge_end}\")\n",
    "    print(f\"Point on screw axis: \\n{point_on_axis}\")\n",
    "    print(f\"Screw axis direction: \\n{axis_direction}\")\n",
    "    \n",
    "    return box, point_on_axis, axis_direction\n"
   ]
  },
  {
   "cell_type": "code",
   "execution_count": 17,
   "metadata": {},
   "outputs": [],
   "source": [
    "def create_screw_rotation(box, point_on_axis, axis_direction, angle_deg=45):\n",
    "    \"\"\"\n",
    "    Create a screw motion that rotates the box around the defined axis.\n",
    "    \n",
    "    Args:\n",
    "        box: The ManipulableBox object\n",
    "        point_on_axis: A point on the screw axis\n",
    "        axis_direction: Direction vector of the screw axis\n",
    "        angle_deg: Rotation angle in degrees\n",
    "        \n",
    "    Returns:\n",
    "        Final pose after rotation\n",
    "    \"\"\"\n",
    "    # Convert angle to radians\n",
    "    angle_rad = np.radians(angle_deg)\n",
    "    \n",
    "    # Create a rotation matrix around the axis direction\n",
    "    # Use SO3.AngleAxis to create rotation around arbitrary axis\n",
    "    R = SO3.AngleAxis(angle_rad, axis_direction).R\n",
    "    \n",
    "    # Current pose of the box\n",
    "    start_pose = box.pose\n",
    "    \n",
    "    # We need to transform the rotation to be around the point on the axis\n",
    "    # rather than around the origin\n",
    "    p = point_on_axis\n",
    "    \n",
    "    # Translation part: p - R*p gives the translation needed\n",
    "    # to keep the point p fixed during rotation\n",
    "    t = p - R @ p\n",
    "    \n",
    "    # Create the final transformation\n",
    "    end_pose = SE3(R, t) * start_pose\n",
    "    \n",
    "    return end_pose\n",
    "\n"
   ]
  },
  {
   "cell_type": "code",
   "execution_count": 18,
   "metadata": {},
   "outputs": [
    {
     "name": "stdout",
     "output_type": "stream",
     "text": [
      "Box dimensions: 0.1 x 0.07 x 0.03 meters\n",
      "Initial pose: \n",
      "  \u001b[38;5;1m 1       \u001b[0m \u001b[38;5;1m 0       \u001b[0m \u001b[38;5;1m 0       \u001b[0m \u001b[38;5;4m 0.5     \u001b[0m  \u001b[0m\n",
      "  \u001b[38;5;1m 0       \u001b[0m \u001b[38;5;1m 1       \u001b[0m \u001b[38;5;1m 0       \u001b[0m \u001b[38;5;4m 0       \u001b[0m  \u001b[0m\n",
      "  \u001b[38;5;1m 0       \u001b[0m \u001b[38;5;1m 0       \u001b[0m \u001b[38;5;1m 1       \u001b[0m \u001b[38;5;4m 0.015   \u001b[0m  \u001b[0m\n",
      "  \u001b[38;5;244m 0       \u001b[0m \u001b[38;5;244m 0       \u001b[0m \u001b[38;5;244m 0       \u001b[0m \u001b[38;5;244m 1       \u001b[0m  \u001b[0m\n",
      "\n",
      "Bottom back edge: from \n",
      "(3,) to \n",
      "[ 0.45  -0.035  0.   ]\n",
      "Point on screw axis: \n",
      "[0.45 0.   0.  ]\n",
      "Screw axis direction: \n",
      "[ 0. -1.  0.]\n"
     ]
    },
    {
     "ename": "ValueError",
     "evalue": "Invalid arguments. See documentation for correct format.",
     "output_type": "error",
     "traceback": [
      "\u001b[0;31m---------------------------------------------------------------------------\u001b[0m",
      "\u001b[0;31mValueError\u001b[0m                                Traceback (most recent call last)",
      "Cell \u001b[0;32mIn[18], line 6\u001b[0m\n\u001b[1;32m      4\u001b[0m \u001b[38;5;66;03m# Create the final pose after rotation\u001b[39;00m\n\u001b[1;32m      5\u001b[0m angle_deg \u001b[38;5;241m=\u001b[39m \u001b[38;5;241m70\u001b[39m  \u001b[38;5;66;03m# Rotation angle in degrees\u001b[39;00m\n\u001b[0;32m----> 6\u001b[0m final_pose \u001b[38;5;241m=\u001b[39m \u001b[43mcreate_screw_rotation\u001b[49m\u001b[43m(\u001b[49m\u001b[43mbox\u001b[49m\u001b[43m,\u001b[49m\u001b[43m \u001b[49m\u001b[43mpoint_on_axis\u001b[49m\u001b[43m,\u001b[49m\u001b[43m \u001b[49m\u001b[43maxis_direction\u001b[49m\u001b[43m,\u001b[49m\u001b[43m \u001b[49m\u001b[43mangle_deg\u001b[49m\u001b[43m)\u001b[49m\n",
      "Cell \u001b[0;32mIn[17], line 33\u001b[0m, in \u001b[0;36mcreate_screw_rotation\u001b[0;34m(box, point_on_axis, axis_direction, angle_deg)\u001b[0m\n\u001b[1;32m     30\u001b[0m t \u001b[38;5;241m=\u001b[39m p \u001b[38;5;241m-\u001b[39m R \u001b[38;5;241m@\u001b[39m p\n\u001b[1;32m     32\u001b[0m \u001b[38;5;66;03m# Create the final transformation\u001b[39;00m\n\u001b[0;32m---> 33\u001b[0m end_pose \u001b[38;5;241m=\u001b[39m \u001b[43mSE3\u001b[49m\u001b[43m(\u001b[49m\u001b[43mR\u001b[49m\u001b[43m,\u001b[49m\u001b[43m \u001b[49m\u001b[43mt\u001b[49m\u001b[43m)\u001b[49m \u001b[38;5;241m*\u001b[39m start_pose\n\u001b[1;32m     35\u001b[0m \u001b[38;5;28;01mreturn\u001b[39;00m end_pose\n",
      "File \u001b[0;32m~/repos/IJRR/spatialmath-python/spatialmath/pose3d.py:1103\u001b[0m, in \u001b[0;36mSE3.__init__\u001b[0;34m(self, x, y, z, check)\u001b[0m\n\u001b[1;32m   1100\u001b[0m     \u001b[38;5;28mself\u001b[39m\u001b[38;5;241m.\u001b[39mdata \u001b[38;5;241m=\u001b[39m [smb\u001b[38;5;241m.\u001b[39mtransl(x, y, z)]\n\u001b[1;32m   1102\u001b[0m \u001b[38;5;28;01melse\u001b[39;00m:\n\u001b[0;32m-> 1103\u001b[0m     \u001b[38;5;28;01mraise\u001b[39;00m \u001b[38;5;167;01mValueError\u001b[39;00m(\u001b[38;5;124m\"\u001b[39m\u001b[38;5;124mInvalid arguments. See documentation for correct format.\u001b[39m\u001b[38;5;124m\"\u001b[39m)\n",
      "\u001b[0;31mValueError\u001b[0m: Invalid arguments. See documentation for correct format."
     ]
    }
   ],
   "source": [
    "# Create a box and define the screw axis\n",
    "box, point_on_axis, axis_direction = create_box_and_screw_axis()\n",
    "\n",
    "# Create the final pose after rotation\n",
    "angle_deg = 70  # Rotation angle in degrees\n",
    "final_pose = create_screw_rotation(box, point_on_axis, axis_direction, angle_deg)\n"
   ]
  }
 ],
 "metadata": {
  "kernelspec": {
   "display_name": "panda",
   "language": "python",
   "name": "python3"
  },
  "language_info": {
   "codemirror_mode": {
    "name": "ipython",
    "version": 3
   },
   "file_extension": ".py",
   "mimetype": "text/x-python",
   "name": "python",
   "nbconvert_exporter": "python",
   "pygments_lexer": "ipython3",
   "version": "3.10.16"
  }
 },
 "nbformat": 4,
 "nbformat_minor": 2
}
