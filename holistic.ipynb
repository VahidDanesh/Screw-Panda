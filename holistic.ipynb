{
 "cells": [
  {
   "cell_type": "code",
   "execution_count": 1,
   "metadata": {},
   "outputs": [
    {
     "data": {
      "text/html": [
       "\n",
       "        <iframe\n",
       "            width=\"600\"\n",
       "            height=\"400\"\n",
       "            src=\"http://localhost:52042/?53042\"\n",
       "            frameborder=\"0\"\n",
       "            allowfullscreen\n",
       "            \n",
       "        ></iframe>\n",
       "        "
      ],
      "text/plain": [
       "<IPython.lib.display.IFrame at 0x7efb58fa5450>"
      ]
     },
     "metadata": {},
     "output_type": "display_data"
    }
   ],
   "source": [
    "import swift\n",
    "import roboticstoolbox as rtb\n",
    "import spatialgeometry as sg\n",
    "import spatialmath as sm\n",
    "import qpsolvers as qp\n",
    "import numpy as np\n",
    "import math\n",
    "\n",
    "\n",
    "def step_robot(r: rtb.ERobot, Tep):\n",
    "\n",
    "    wTe = r.fkine(r.q)\n",
    "\n",
    "    eTep = np.linalg.inv(wTe) @ Tep\n",
    "\n",
    "    # Spatial error\n",
    "    et = np.sum(np.abs(eTep[:3, -1]))\n",
    "\n",
    "    # Gain term (lambda) for control minimisation\n",
    "    Y = 0.01\n",
    "\n",
    "    # Quadratic component of objective function\n",
    "    Q = np.eye(r.n + 6)\n",
    "\n",
    "    # Joint velocity component of Q\n",
    "    Q[: r.n, : r.n] *= Y\n",
    "    Q[:2, :2] *= 1.0 / et\n",
    "\n",
    "    # Slack component of Q\n",
    "    Q[r.n :, r.n :] = (1.0 / et) * np.eye(6)\n",
    "\n",
    "    v, _ = rtb.p_servo(wTe, Tep, 1.5)\n",
    "\n",
    "    v[3:] *= 1.3\n",
    "\n",
    "    # The equality contraints\n",
    "    Aeq = np.c_[r.jacobe(r.q), np.eye(6)]\n",
    "    beq = v.reshape((6,))\n",
    "\n",
    "    # The inequality constraints for joint limit avoidance\n",
    "    Ain = np.zeros((r.n + 6, r.n + 6))\n",
    "    bin = np.zeros(r.n + 6)\n",
    "\n",
    "    # The minimum angle (in radians) in which the joint is allowed to approach\n",
    "    # to its limit\n",
    "    ps = 0.1\n",
    "\n",
    "    # The influence angle (in radians) in which the velocity damper\n",
    "    # becomes active\n",
    "    pi = 0.9\n",
    "\n",
    "    # Form the joint limit velocity damper\n",
    "    Ain[: r.n, : r.n], bin[: r.n] = r.joint_velocity_damper(ps, pi, r.n)\n",
    "\n",
    "    # Linear component of objective function: the manipulability Jacobian\n",
    "    c = np.concatenate(\n",
    "        (np.zeros(2), -r.jacobm(start=r.links[4]).reshape((r.n - 2,)), np.zeros(6))\n",
    "    )\n",
    "\n",
    "    # Get base to face end-effector\n",
    "    kε = 0.5\n",
    "    bTe = r.fkine(r.q, include_base=False).A\n",
    "    θε = math.atan2(bTe[1, -1], bTe[0, -1])\n",
    "    ε = kε * θε\n",
    "    c[0] = -ε\n",
    "\n",
    "    # The lower and upper bounds on the joint velocity and slack variable\n",
    "    lb = -np.r_[r.qdlim[: r.n], 10 * np.ones(6)]\n",
    "    ub = np.r_[r.qdlim[: r.n], 10 * np.ones(6)]\n",
    "\n",
    "    # Solve for the joint velocities dq\n",
    "    qd = qp.solve_qp(Q, c, Ain, bin, Aeq, beq, lb=lb, ub=ub, solver=\"cvxopt\")\n",
    "    qd = qd[: r.n]\n",
    "\n",
    "    if et > 0.5:\n",
    "        qd *= 0.7 / et\n",
    "    else:\n",
    "        qd *= 1.4\n",
    "\n",
    "    if et < 0.01:\n",
    "        return True, qd\n",
    "    else:\n",
    "        return False, qd\n",
    "\n",
    "\n",
    "env = swift.Swift()\n",
    "env.launch(realtime=True, browser='notebook')\n",
    "\n",
    "ax_goal = sg.Axes(0.1)\n",
    "env.add(ax_goal)\n",
    "\n",
    "frankie = rtb.models.Frankie()\n",
    "frankie.q = frankie.qr\n",
    "env.add(frankie)\n",
    "\n",
    "arrived = False\n",
    "dt = 0.025\n",
    "\n",
    "# Behind\n",
    "env.set_camera_pose([-2, 3, 0.7], [-2, 0.0, 0.5])\n",
    "wTep = frankie.fkine(frankie.q) * sm.SE3.Rz(np.pi)\n",
    "wTep.A[:3, :3] = np.diag([-1, 1, -1])\n",
    "wTep.A[0, -1] -= 4.0\n",
    "wTep.A[2, -1] -= 0.25\n",
    "ax_goal.T = wTep\n",
    "env.step()\n",
    "\n",
    "\n",
    "while not arrived:\n",
    "\n",
    "    arrived, frankie.qd = step_robot(frankie, wTep.A)\n",
    "    env.step(dt)\n",
    "\n",
    "    # Reset bases\n",
    "    base_new = frankie.fkine(frankie._q, end=frankie.links[2])\n",
    "    frankie._T = base_new.A\n",
    "    frankie.q[:2] = 0\n",
    "\n",
    "# env.hold()"
   ]
  },
  {
   "cell_type": "code",
   "execution_count": 13,
   "metadata": {},
   "outputs": [
    {
     "data": {
      "text/plain": [
       "[Link(\"panda_link8\", SE3(0, 0, 0.107), parent=\"panda_link7\")]"
      ]
     },
     "execution_count": 13,
     "metadata": {},
     "output_type": "execute_result"
    }
   ],
   "source": [
    "frankie.ee_links"
   ]
  }
 ],
 "metadata": {
  "kernelspec": {
   "display_name": "panda",
   "language": "python",
   "name": "python3"
  },
  "language_info": {
   "codemirror_mode": {
    "name": "ipython",
    "version": 3
   },
   "file_extension": ".py",
   "mimetype": "text/x-python",
   "name": "python",
   "nbconvert_exporter": "python",
   "pygments_lexer": "ipython3",
   "version": "3.10.16"
  }
 },
 "nbformat": 4,
 "nbformat_minor": 2
}
