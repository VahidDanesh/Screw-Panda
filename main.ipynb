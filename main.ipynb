{
 "cells": [
  {
   "cell_type": "code",
   "execution_count": 83,
   "metadata": {},
   "outputs": [
    {
     "name": "stdout",
     "output_type": "stream",
     "text": [
      "The autoreload extension is already loaded. To reload it, use:\n",
      "  %reload_ext autoreload\n",
      "/home/vahdan/repos/IJRR/Screw-Panda/models/franka_description/robots/franka_description/meshes/visual/link0.dae\n",
      "/home/vahdan/repos/IJRR/Screw-Panda/models/franka_description/franka_description/meshes/visual/link0.dae\n",
      "/home/vahdan/repos/IJRR/Screw-Panda/models/franka_description/meshes/visual/link0.dae\n",
      "/home/vahdan/repos/IJRR/Screw-Panda/models/franka_description/robots/franka_description/meshes/collision/link0.stl\n",
      "/home/vahdan/repos/IJRR/Screw-Panda/models/franka_description/franka_description/meshes/collision/link0.stl\n",
      "/home/vahdan/repos/IJRR/Screw-Panda/models/franka_description/meshes/collision/link0.stl\n",
      "/home/vahdan/repos/IJRR/Screw-Panda/models/franka_description/robots/franka_description/meshes/visual/link1.dae\n",
      "/home/vahdan/repos/IJRR/Screw-Panda/models/franka_description/franka_description/meshes/visual/link1.dae\n",
      "/home/vahdan/repos/IJRR/Screw-Panda/models/franka_description/meshes/visual/link1.dae\n",
      "/home/vahdan/repos/IJRR/Screw-Panda/models/franka_description/robots/franka_description/meshes/collision/link1.stl\n",
      "/home/vahdan/repos/IJRR/Screw-Panda/models/franka_description/franka_description/meshes/collision/link1.stl\n",
      "/home/vahdan/repos/IJRR/Screw-Panda/models/franka_description/meshes/collision/link1.stl\n",
      "/home/vahdan/repos/IJRR/Screw-Panda/models/franka_description/robots/franka_description/meshes/visual/link2.dae\n",
      "/home/vahdan/repos/IJRR/Screw-Panda/models/franka_description/franka_description/meshes/visual/link2.dae\n",
      "/home/vahdan/repos/IJRR/Screw-Panda/models/franka_description/meshes/visual/link2.dae\n",
      "/home/vahdan/repos/IJRR/Screw-Panda/models/franka_description/robots/franka_description/meshes/collision/link2.stl\n",
      "/home/vahdan/repos/IJRR/Screw-Panda/models/franka_description/franka_description/meshes/collision/link2.stl\n",
      "/home/vahdan/repos/IJRR/Screw-Panda/models/franka_description/meshes/collision/link2.stl\n",
      "/home/vahdan/repos/IJRR/Screw-Panda/models/franka_description/robots/franka_description/meshes/visual/link3.dae\n",
      "/home/vahdan/repos/IJRR/Screw-Panda/models/franka_description/franka_description/meshes/visual/link3.dae\n",
      "/home/vahdan/repos/IJRR/Screw-Panda/models/franka_description/meshes/visual/link3.dae\n",
      "/home/vahdan/repos/IJRR/Screw-Panda/models/franka_description/robots/franka_description/meshes/collision/link3.stl\n",
      "/home/vahdan/repos/IJRR/Screw-Panda/models/franka_description/franka_description/meshes/collision/link3.stl\n",
      "/home/vahdan/repos/IJRR/Screw-Panda/models/franka_description/meshes/collision/link3.stl\n",
      "/home/vahdan/repos/IJRR/Screw-Panda/models/franka_description/robots/franka_description/meshes/visual/link4.dae\n",
      "/home/vahdan/repos/IJRR/Screw-Panda/models/franka_description/franka_description/meshes/visual/link4.dae\n",
      "/home/vahdan/repos/IJRR/Screw-Panda/models/franka_description/meshes/visual/link4.dae\n",
      "/home/vahdan/repos/IJRR/Screw-Panda/models/franka_description/robots/franka_description/meshes/collision/link4.stl\n",
      "/home/vahdan/repos/IJRR/Screw-Panda/models/franka_description/franka_description/meshes/collision/link4.stl\n",
      "/home/vahdan/repos/IJRR/Screw-Panda/models/franka_description/meshes/collision/link4.stl\n",
      "/home/vahdan/repos/IJRR/Screw-Panda/models/franka_description/robots/franka_description/meshes/visual/link5.dae\n",
      "/home/vahdan/repos/IJRR/Screw-Panda/models/franka_description/franka_description/meshes/visual/link5.dae\n",
      "/home/vahdan/repos/IJRR/Screw-Panda/models/franka_description/meshes/visual/link5.dae\n",
      "/home/vahdan/repos/IJRR/Screw-Panda/models/franka_description/robots/franka_description/meshes/collision/link5.stl\n",
      "/home/vahdan/repos/IJRR/Screw-Panda/models/franka_description/franka_description/meshes/collision/link5.stl\n",
      "/home/vahdan/repos/IJRR/Screw-Panda/models/franka_description/meshes/collision/link5.stl\n",
      "/home/vahdan/repos/IJRR/Screw-Panda/models/franka_description/robots/franka_description/meshes/visual/link6.dae\n",
      "/home/vahdan/repos/IJRR/Screw-Panda/models/franka_description/franka_description/meshes/visual/link6.dae\n",
      "/home/vahdan/repos/IJRR/Screw-Panda/models/franka_description/meshes/visual/link6.dae\n",
      "/home/vahdan/repos/IJRR/Screw-Panda/models/franka_description/robots/franka_description/meshes/collision/link6.stl\n",
      "/home/vahdan/repos/IJRR/Screw-Panda/models/franka_description/franka_description/meshes/collision/link6.stl\n",
      "/home/vahdan/repos/IJRR/Screw-Panda/models/franka_description/meshes/collision/link6.stl\n",
      "/home/vahdan/repos/IJRR/Screw-Panda/models/franka_description/robots/franka_description/meshes/visual/link7.dae\n",
      "/home/vahdan/repos/IJRR/Screw-Panda/models/franka_description/franka_description/meshes/visual/link7.dae\n",
      "/home/vahdan/repos/IJRR/Screw-Panda/models/franka_description/meshes/visual/link7.dae\n",
      "/home/vahdan/repos/IJRR/Screw-Panda/models/franka_description/robots/franka_description/meshes/collision/link7.stl\n",
      "/home/vahdan/repos/IJRR/Screw-Panda/models/franka_description/franka_description/meshes/collision/link7.stl\n",
      "/home/vahdan/repos/IJRR/Screw-Panda/models/franka_description/meshes/collision/link7.stl\n",
      "/home/vahdan/repos/IJRR/Screw-Panda/models/franka_description/robots/franka_description/meshes/visual/hand.dae\n",
      "/home/vahdan/repos/IJRR/Screw-Panda/models/franka_description/franka_description/meshes/visual/hand.dae\n",
      "/home/vahdan/repos/IJRR/Screw-Panda/models/franka_description/meshes/visual/hand.dae\n",
      "/home/vahdan/repos/IJRR/Screw-Panda/models/franka_description/robots/franka_description/meshes/collision/hand.stl\n",
      "/home/vahdan/repos/IJRR/Screw-Panda/models/franka_description/franka_description/meshes/collision/hand.stl\n",
      "/home/vahdan/repos/IJRR/Screw-Panda/models/franka_description/meshes/collision/hand.stl\n",
      "/home/vahdan/repos/IJRR/Screw-Panda/models/franka_description/robots/franka_description/meshes/visual/finger.dae\n",
      "/home/vahdan/repos/IJRR/Screw-Panda/models/franka_description/franka_description/meshes/visual/finger.dae\n",
      "/home/vahdan/repos/IJRR/Screw-Panda/models/franka_description/meshes/visual/finger.dae\n",
      "/home/vahdan/repos/IJRR/Screw-Panda/models/franka_description/robots/franka_description/meshes/collision/finger.stl\n",
      "/home/vahdan/repos/IJRR/Screw-Panda/models/franka_description/franka_description/meshes/collision/finger.stl\n",
      "/home/vahdan/repos/IJRR/Screw-Panda/models/franka_description/meshes/collision/finger.stl\n",
      "/home/vahdan/repos/IJRR/Screw-Panda/models/franka_description/robots/franka_description/meshes/visual/finger.dae\n",
      "/home/vahdan/repos/IJRR/Screw-Panda/models/franka_description/franka_description/meshes/visual/finger.dae\n",
      "/home/vahdan/repos/IJRR/Screw-Panda/models/franka_description/meshes/visual/finger.dae\n",
      "/home/vahdan/repos/IJRR/Screw-Panda/models/franka_description/robots/franka_description/meshes/collision/finger.stl\n",
      "/home/vahdan/repos/IJRR/Screw-Panda/models/franka_description/franka_description/meshes/collision/finger.stl\n",
      "/home/vahdan/repos/IJRR/Screw-Panda/models/franka_description/meshes/collision/finger.stl\n"
     ]
    }
   ],
   "source": [
    "%load_ext autoreload\n",
    "%autoreload 2\n",
    "from config.config import *\n",
    "import numpy as np\n",
    "import roboticstoolbox as rtb\n",
    "import spatialmath as sm\n",
    "import spatialgeometry as sg\n",
    "import urchin\n",
    "from urchin import URDF\n",
    "from math import *\n",
    "import os\n",
    "import swift\n",
    "\n",
    "urdf_path = os.path.join(os.getcwd(), PANDA_VIRTUAL)\n",
    "urdf = URDF.load(urdf_path)\n",
    "panda = rtb.models.Panda()\n",
    "panda_virtual = rtb.Robot.URDF(urdf_path, 'panda_finger_virtual')\n",
    "panda_virtual.qz = np.zeros(panda_virtual.n)\n",
    "panda_virtual.qr = np.concatenate((panda.qr, np.zeros(panda_virtual.n - panda.n)))\n",
    "fingers = {'open': np.array([0.04, 0.04]), 'close': np.array([0.0, 0.0])}\n"
   ]
  },
  {
   "cell_type": "code",
   "execution_count": 140,
   "metadata": {},
   "outputs": [],
   "source": [
    "\n",
    "def get_screw_matrices(robot):\n",
    "    \"\"\"Compute Modern Robotics screw matrices S and B\"\"\"\n",
    "    qz = np.zeros(robot.n)\n",
    "    M = robot.fkine(qz).A\n",
    "    \n",
    "    # Get body Jacobian and convert to B-list\n",
    "    Je = robot.jacobe(qz)\n",
    "    Blist = np.vstack((Je[3:], Je[:3]))  # [ω, v]\n",
    "    \n",
    "    # Compute S-list from B-list using adjoint\n",
    "    R = M[:3, :3]\n",
    "    p = M[:3, 3]\n",
    "    \n",
    "    AdM = np.zeros((6, 6))\n",
    "    AdM[:3, :3] = R\n",
    "    AdM[3:, 3:] = R\n",
    "    AdM[3:, :3] = skew(p) @ R\n",
    "    \n",
    "    Slist = np.zeros((6, robot.n))\n",
    "    for i in range(robot.n):\n",
    "        Slist[:, i] = AdM @ Blist[:, i]\n",
    "        \n",
    "    return Slist, Blist, M\n",
    "\n",
    "def skew(v):\n",
    "    return np.array([[0, -v[2], v[1]], [v[2], 0, -v[0]], [-v[1], v[0], 0]])"
   ]
  },
  {
   "cell_type": "code",
   "execution_count": 131,
   "metadata": {},
   "outputs": [
    {
     "data": {
      "text/plain": [
       "True"
      ]
     },
     "execution_count": 131,
     "metadata": {},
     "output_type": "execute_result"
    }
   ],
   "source": [
    "Ti = panda_virtual.links[1].isrevolute\n",
    "\n",
    "Ti"
   ]
  },
  {
   "cell_type": "code",
   "execution_count": 141,
   "metadata": {},
   "outputs": [
    {
     "ename": "IndexError",
     "evalue": "index 8 is out of bounds for axis 1 with size 8",
     "output_type": "error",
     "traceback": [
      "\u001b[0;31m---------------------------------------------------------------------------\u001b[0m",
      "\u001b[0;31mIndexError\u001b[0m                                Traceback (most recent call last)",
      "Cell \u001b[0;32mIn[141], line 1\u001b[0m\n\u001b[0;32m----> 1\u001b[0m Slist, Blist, M \u001b[38;5;241m=\u001b[39m \u001b[43mget_screw_matrices\u001b[49m\u001b[43m(\u001b[49m\u001b[43mpanda_virtual\u001b[49m\u001b[43m)\u001b[49m\n\u001b[1;32m      4\u001b[0m \u001b[38;5;28mprint\u001b[39m(\u001b[38;5;124m'\u001b[39m\u001b[38;5;124mSlist:\u001b[39m\u001b[38;5;130;01m\\n\u001b[39;00m\u001b[38;5;124m'\u001b[39m, np\u001b[38;5;241m.\u001b[39mround(Slist, \u001b[38;5;241m4\u001b[39m))\n\u001b[1;32m      5\u001b[0m \u001b[38;5;28mprint\u001b[39m(\u001b[38;5;124m'\u001b[39m\u001b[38;5;124mBlist:\u001b[39m\u001b[38;5;130;01m\\n\u001b[39;00m\u001b[38;5;124m'\u001b[39m, np\u001b[38;5;241m.\u001b[39mround(Blist, \u001b[38;5;241m4\u001b[39m))\n",
      "Cell \u001b[0;32mIn[140], line 21\u001b[0m, in \u001b[0;36mget_screw_matrices\u001b[0;34m(robot)\u001b[0m\n\u001b[1;32m     19\u001b[0m Slist \u001b[38;5;241m=\u001b[39m np\u001b[38;5;241m.\u001b[39mzeros((\u001b[38;5;241m6\u001b[39m, robot\u001b[38;5;241m.\u001b[39mn))\n\u001b[1;32m     20\u001b[0m \u001b[38;5;28;01mfor\u001b[39;00m i \u001b[38;5;129;01min\u001b[39;00m \u001b[38;5;28mrange\u001b[39m(robot\u001b[38;5;241m.\u001b[39mn):\n\u001b[0;32m---> 21\u001b[0m     Slist[:, i] \u001b[38;5;241m=\u001b[39m AdM \u001b[38;5;241m@\u001b[39m \u001b[43mBlist\u001b[49m\u001b[43m[\u001b[49m\u001b[43m:\u001b[49m\u001b[43m,\u001b[49m\u001b[43m \u001b[49m\u001b[43mi\u001b[49m\u001b[43m]\u001b[49m\n\u001b[1;32m     23\u001b[0m \u001b[38;5;28;01mreturn\u001b[39;00m Slist, Blist, M\n",
      "\u001b[0;31mIndexError\u001b[0m: index 8 is out of bounds for axis 1 with size 8"
     ]
    }
   ],
   "source": [
    "Slist, Blist, M = get_screw_matrices(panda_virtual)\n",
    "\n",
    "\n",
    "print('Slist:\\n', np.round(Slist, 4))\n",
    "print('Blist:\\n', np.round(Blist, 4))\n",
    "print('M:\\n', np.round(M, 5))"
   ]
  },
  {
   "cell_type": "code",
   "execution_count": 139,
   "metadata": {},
   "outputs": [
    {
     "name": "stdout",
     "output_type": "stream",
     "text": [
      "Slist:\n",
      " [[-0.      0.      0.      0.      0.      0.      0.      0.7071]\n",
      " [ 0.      1.      0.     -1.      0.     -1.     -0.     -0.7071]\n",
      " [ 1.      0.      1.      0.      1.      0.     -1.      0.    ]\n",
      " [ 0.      0.4896  0.     -0.1736  0.      0.2104  0.      0.    ]\n",
      " [ 0.088   0.      0.088   0.      0.088   0.      0.      0.    ]\n",
      " [ 0.     -0.088  -0.      0.0055 -0.      0.088   0.      0.    ]]\n",
      "Blist:\n",
      " [[-0.      0.7071 -0.     -0.7071 -0.     -0.7071  0.      0.    ]\n",
      " [ 1.      0.      1.     -0.      1.     -0.     -1.      0.    ]\n",
      " [ 0.     -0.7071  0.      0.7071  0.      0.7071  0.      1.    ]\n",
      " [ 0.0622  0.3462  0.0622 -0.1228  0.0622  0.1488 -0.      0.    ]\n",
      " [ 0.     -0.088   0.      0.0055  0.      0.088   0.      0.    ]\n",
      " [-0.0622  0.3462 -0.0622 -0.1228 -0.0622  0.1488  0.      0.    ]]\n",
      "M:\n",
      " [[ 0.70711  0.       0.70711  0.088  ]\n",
      " [ 0.70711  0.      -0.70711 -0.     ]\n",
      " [-0.       1.       0.       0.8226 ]\n",
      " [ 0.       0.       0.       1.     ]]\n"
     ]
    }
   ],
   "source": [
    "qz = panda_virtual.qz\n",
    "# Get jacobians\n",
    "J0 = panda_virtual.jacob0(qz)\n",
    "Je = panda_virtual.jacobe(qz)\n",
    "\n",
    "# Convert to Modern Robotics format\n",
    "Slist = np.vstack((J0[3:], J0[:3]))  # [ω, v]\n",
    "Blist = np.vstack((Je[3:], Je[:3]))  # [ω, v]\n",
    "\n",
    "# Get home configuration \n",
    "M = panda_virtual.fkine(qz).A\n",
    "\n",
    "print('Slist:\\n', np.round(Slist, 4))\n",
    "print('Blist:\\n', np.round(Blist, 4))\n",
    "print('M:\\n', np.round(M, 5))\n"
   ]
  },
  {
   "cell_type": "code",
   "execution_count": 86,
   "metadata": {},
   "outputs": [
    {
     "data": {
      "text/html": [
       "\n",
       "        <iframe\n",
       "            width=\"600\"\n",
       "            height=\"400\"\n",
       "            src=\"http://localhost:52006/?53006\"\n",
       "            frameborder=\"0\"\n",
       "            allowfullscreen\n",
       "            \n",
       "        ></iframe>\n",
       "        "
      ],
      "text/plain": [
       "<IPython.lib.display.IFrame at 0x7f7d606aa080>"
      ]
     },
     "metadata": {},
     "output_type": "display_data"
    }
   ],
   "source": [
    "dt = 1/1000\n",
    "t = np.arange(0, 3, dt)\n",
    "env = swift.Swift()\n",
    "env.launch(realtime=True, browser='notebook')\n",
    "traj = rtb.jtraj(panda.qz, panda.qr, t)\n",
    "env.add(panda_virtual)\n",
    "\n",
    "for q in traj.q:\n",
    "    panda_virtual.q = np.concatenate((q, fingers['close']))\n",
    "    env.step(dt)"
   ]
  },
  {
   "cell_type": "code",
   "execution_count": null,
   "metadata": {},
   "outputs": [
    {
     "data": {
      "text/plain": [
       "array([ 0.        , -0.3       ,  0.        , -2.2       ,  0.        ,\n",
       "        2.        ,  0.78539816,  0.        ,  0.        ])"
      ]
     },
     "execution_count": 20,
     "metadata": {},
     "output_type": "execute_result"
    }
   ],
   "source": [
    "panda_virtual.q"
   ]
  },
  {
   "cell_type": "code",
   "execution_count": 24,
   "metadata": {},
   "outputs": [
    {
     "data": {
      "text/plain": [
       "  \u001b[38;5;1m 1       \u001b[0m \u001b[38;5;1m 0       \u001b[0m \u001b[38;5;1m 0       \u001b[0m \u001b[38;5;4m 0.11    \u001b[0m  \u001b[0m\n",
       "  \u001b[38;5;1m 0       \u001b[0m \u001b[38;5;1m 0       \u001b[0m \u001b[38;5;1m-1       \u001b[0m \u001b[38;5;4m 0       \u001b[0m  \u001b[0m\n",
       "  \u001b[38;5;1m 0       \u001b[0m \u001b[38;5;1m 1       \u001b[0m \u001b[38;5;1m 0       \u001b[0m \u001b[38;5;4m 0       \u001b[0m  \u001b[0m\n",
       "  \u001b[38;5;244m 0       \u001b[0m \u001b[38;5;244m 0       \u001b[0m \u001b[38;5;244m 0       \u001b[0m \u001b[38;5;244m 1       \u001b[0m  \u001b[0m\n"
      ]
     },
     "execution_count": 24,
     "metadata": {},
     "output_type": "execute_result"
    }
   ],
   "source": [
    "bTe"
   ]
  },
  {
   "cell_type": "code",
   "execution_count": 30,
   "metadata": {},
   "outputs": [
    {
     "data": {
      "text/html": [
       "\n",
       "        <iframe\n",
       "            width=\"600\"\n",
       "            height=\"400\"\n",
       "            src=\"http://localhost:52035/?53035\"\n",
       "            frameborder=\"0\"\n",
       "            allowfullscreen\n",
       "            \n",
       "        ></iframe>\n",
       "        "
      ],
      "text/plain": [
       "<IPython.lib.display.IFrame at 0x7f684c1f0a90>"
      ]
     },
     "metadata": {},
     "output_type": "display_data"
    },
    {
     "name": "stdout",
     "output_type": "stream",
     "text": [
      "[[1.    0.    0.    0.7  ]\n",
      " [0.    1.    0.    0.   ]\n",
      " [0.    0.    1.    0.015]\n",
      " [0.    0.    0.    1.   ]]\n",
      "[[ 1.0000000e+00  0.0000000e+00  0.0000000e+00  6.1000000e-01]\n",
      " [ 0.0000000e+00 -1.0000000e+00 -1.2246468e-16  0.0000000e+00]\n",
      " [ 0.0000000e+00  1.2246468e-16 -1.0000000e+00  1.5000000e-02]\n",
      " [ 0.0000000e+00  0.0000000e+00  0.0000000e+00  1.0000000e+00]]\n"
     ]
    }
   ],
   "source": [
    "\n",
    "env = swift.Swift()\n",
    "env.launch(realtime=True, browser='notebook')\n",
    "# Make a panda model and set its joint angles to the ready joint configuration\n",
    "panda = rtb.models.Panda()\n",
    "frankie = rtb.models.Frankie()\n",
    "box = sg.Cuboid(scale=[0.1, 0.07, 0.03],\n",
    "                color='blue')\n",
    "box.T = sm.SE3(0.7, 0, 0.015)\n",
    "box.set_alpha(0.5)\n",
    "\n",
    "panda.q = panda.qr\n",
    "\n",
    "# Set a desired and effector pose an an offset from the current end-effector pose\n",
    "bTe = sm.SE3(-box.scale[0] + 0.01, 0, 0) * sm.SE3.Rx(pi)\n",
    "Tep = box.T * bTe\n",
    "print(box.T)\n",
    "print(Tep)\n",
    "# Add the robot to the simulator\n",
    "env.add(panda)\n",
    "env.add(box)\n",
    "\n",
    "\n",
    "\n",
    "# Simulate the robot while it has not arrived at the goal\n",
    "arrived = False\n",
    "while not arrived:\n",
    "\n",
    "    # Work out the required end-effector velocity to go towards the goal\n",
    "    v, arrived = rtb.p_servo(panda.fkine(panda.q), Tep, 1)\n",
    "    \n",
    "    # Set the Panda's joint velocities\n",
    "    panda.qd = np.linalg.pinv(panda.jacobe(panda.q)) @ v\n",
    "    \n",
    "    # Step the simulator by 50 milliseconds\n",
    "    env.step(0.05)\n"
   ]
  },
  {
   "cell_type": "code",
   "execution_count": null,
   "metadata": {},
   "outputs": [],
   "source": [
    "import genesis as gs\n",
    "\n",
    "gs.init(backend=gs.cuda)\n",
    "\n",
    "scene = gs.Scene(\n",
    "    show_viewer = True,\n",
    "    viewer_options = gs.options.ViewerOptions(\n",
    "        res           = (1280, 960),\n",
    "        camera_pos    = (3.5, 0.0, 2.5),\n",
    "        camera_lookat = (0.0, 0.0, 0.5),\n",
    "        camera_fov    = 40,\n",
    "        max_FPS       = 60,\n",
    "    ),\n",
    "    vis_options = gs.options.VisOptions(\n",
    "        show_world_frame = True,\n",
    "        world_frame_size = 1.0,\n",
    "        show_link_frame  = False,\n",
    "        show_cameras     = False,\n",
    "        plane_reflection = True,\n",
    "        ambient_light    = (0.1, 0.1, 0.1),\n",
    "    ),\n",
    "    renderer=gs.renderers.Rasterizer(),\n",
    ")\n",
    "\n",
    "plane = scene.add_entity(\n",
    "    gs.morphs.Plane(),\n",
    ")\n",
    "franka = scene.add_entity(\n",
    "    gs.morphs.MJCF(file='xml/franka_emika_panda/panda.xml'),\n",
    ")\n",
    "\n",
    "cam = scene.add_camera(\n",
    "    res    = (640, 480),\n",
    "    pos    = (3.5, 0.0, 2.5),\n",
    "    lookat = (0, 0, 0.5),\n",
    "    fov    = 30,\n",
    "    GUI    = False,\n",
    ")\n",
    "\n",
    "scene.build()\n",
    "\n",
    "# render rgb, depth, segmentation, and normal\n",
    "# rgb, depth, segmentation, normal = cam.render(rgb=True, depth=True, segmentation=True, normal=True)\n",
    "\n",
    "cam.start_recording()\n",
    "import numpy as np\n",
    "\n",
    "for i in range(120):\n",
    "    scene.step()\n",
    "    cam.set_pose(\n",
    "        pos    = (3.0 * np.sin(i / 60), 3.0 * np.cos(i / 60), 2.5),\n",
    "        lookat = (0, 0, 0.5),\n",
    "    )\n",
    "    cam.render()\n",
    "cam.stop_recording(save_to_filename='video.mp4', fps=60)"
   ]
  },
  {
   "cell_type": "code",
   "execution_count": null,
   "metadata": {},
   "outputs": [],
   "source": [
    "import numpy as np\n",
    "import genesis as gs\n",
    "\n",
    "########################## init ##########################\n",
    "gs.init(backend=gs.cuda)\n",
    "\n",
    "########################## create a scene ##########################\n",
    "scene = gs.Scene(\n",
    "    show_viewer = True,\n",
    "    viewer_options = gs.options.ViewerOptions(\n",
    "        res           = (1280, 960),\n",
    "        camera_pos    = (3.5, 0.0, 2.5),\n",
    "        camera_lookat = (0.0, 0.0, 0.5),\n",
    "        camera_fov    = 40,\n",
    "        max_FPS       = 60,\n",
    "    ),\n",
    "    vis_options = gs.options.VisOptions(\n",
    "        show_world_frame = True,\n",
    "        world_frame_size = 1.0,\n",
    "        show_link_frame  = False,\n",
    "        show_cameras     = False,\n",
    "        plane_reflection = True,\n",
    "        ambient_light    = (0.1, 0.1, 0.1),\n",
    "    ),\n",
    "    renderer=gs.renderers.Rasterizer(),\n",
    ")\n",
    "\n",
    "cam = scene.add_camera(\n",
    "    res    = (640, 480),\n",
    "    pos    = (3.5, 0.0, 2.5),\n",
    "    lookat = (0, 0, 0.5),\n",
    "    fov    = 30,\n",
    "    GUI    = False,\n",
    ")\n",
    "\n",
    "\n",
    "########################## entities ##########################\n",
    "plane = scene.add_entity(\n",
    "    gs.morphs.Plane(),\n",
    ")\n",
    "cube = scene.add_entity(\n",
    "    gs.morphs.Box(\n",
    "        size = (0.04, 0.04, 0.04),\n",
    "        pos  = (0.65, 0.0, 0.02),\n",
    "    )\n",
    ")\n",
    "franka = scene.add_entity(\n",
    "    gs.morphs.MJCF(file='xml/franka_emika_panda/panda.xml'),\n",
    ")\n",
    "########################## build ##########################\n",
    "scene.build()\n",
    "\n",
    "motors_dof = np.arange(7)\n",
    "fingers_dof = np.arange(7, 9)\n",
    "\n",
    "# set control gains\n",
    "# Note: the following values are tuned for achieving best behavior with Franka\n",
    "# Typically, each new robot would have a different set of parameters.\n",
    "# Sometimes high-quality URDF or XML file would also provide this and will be parsed.\n",
    "franka.set_dofs_kp(\n",
    "    np.array([4500, 4500, 3500, 3500, 2000, 2000, 2000, 100, 100]),\n",
    ")\n",
    "franka.set_dofs_kv(\n",
    "    np.array([450, 450, 350, 350, 200, 200, 200, 10, 10]),\n",
    ")\n",
    "franka.set_dofs_force_range(\n",
    "    np.array([-87, -87, -87, -87, -12, -12, -12, -100, -100]),\n",
    "    np.array([ 87,  87,  87,  87,  12,  12,  12,  100,  100]),\n",
    ")"
   ]
  },
  {
   "cell_type": "code",
   "execution_count": null,
   "metadata": {},
   "outputs": [],
   "source": [
    "\n",
    "# get the end-effector link\n",
    "end_effector = franka.get_link('hand')\n",
    "\n",
    "# move to pre-grasp pose\n",
    "qpos = franka.inverse_kinematics(\n",
    "    link = end_effector,\n",
    "    pos  = np.array([0.65, 0.0, 0.25]),\n",
    "    quat = np.array([0, 1, 0, 0]),\n",
    ")\n",
    "# gripper open pos\n",
    "qpos[-2:] = 0.04\n",
    "path = franka.plan_path(\n",
    "    qpos_goal     = qpos,\n",
    "    num_waypoints = 200, # 2s duration\n",
    ")\n",
    "# execute the planned path\n",
    "for waypoint in path:\n",
    "    franka.control_dofs_position(waypoint)\n",
    "    scene.step()\n",
    "\n",
    "# allow robot to reach the last waypoint\n",
    "for i in range(100):\n",
    "    scene.step()\n",
    "# reach\n",
    "qpos = franka.inverse_kinematics(\n",
    "    link = end_effector,\n",
    "    pos  = np.array([0.65, 0.0, 0.130]),\n",
    "    quat = np.array([0, 1, 0, 0]),\n",
    ")\n",
    "franka.control_dofs_position(qpos[:-2], motors_dof)\n",
    "for i in range(100):\n",
    "    scene.step()\n",
    "\n",
    "# grasp\n",
    "franka.control_dofs_position(qpos[:-2], motors_dof)\n",
    "franka.control_dofs_force(np.array([-0.5, -0.5]), fingers_dof)\n",
    "\n",
    "for i in range(100):\n",
    "    scene.step()\n",
    "\n",
    "# lift\n",
    "qpos = franka.inverse_kinematics(\n",
    "    link=end_effector,\n",
    "    pos=np.array([0.65, 0.0, 0.28]),\n",
    "    quat=np.array([0, 1, 0, 0]),\n",
    ")\n",
    "franka.control_dofs_position(qpos[:-2], motors_dof)\n",
    "for i in range(200):\n",
    "    scene.step()"
   ]
  }
 ],
 "metadata": {
  "kernelspec": {
   "display_name": "panda",
   "language": "python",
   "name": "python3"
  },
  "language_info": {
   "codemirror_mode": {
    "name": "ipython",
    "version": 3
   },
   "file_extension": ".py",
   "mimetype": "text/x-python",
   "name": "python",
   "nbconvert_exporter": "python",
   "pygments_lexer": "ipython3",
   "version": "3.10.16"
  }
 },
 "nbformat": 4,
 "nbformat_minor": 4
}
