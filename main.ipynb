{
 "cells": [
  {
   "cell_type": "code",
   "execution_count": 19,
   "metadata": {},
   "outputs": [
    {
     "name": "stdout",
     "output_type": "stream",
     "text": [
      "The autoreload extension is already loaded. To reload it, use:\n",
      "  %reload_ext autoreload\n"
     ]
    }
   ],
   "source": [
    "# We will do the imports required for this notebook here\n",
    "%load_ext autoreload\n",
    "%autoreload 2\n",
    "# numpy provides import array and linear algebra utilities\n",
    "import numpy as np\n",
    "\n",
    "# the robotics toolbox provides robotics specific functionality\n",
    "import roboticstoolbox as rtb\n",
    "\n",
    "# spatial math provides objects for representing transformations\n",
    "import spatialmath as sm\n",
    "\n",
    "# swift is a lightweight browser-based simulator which comes eith the toolbox\n",
    "from swift import Swift\n",
    "\n",
    "# spatialgeometry is a utility package for dealing with geometric objects\n",
    "import spatialgeometry as sg\n",
    "\n",
    "# import urchin to read urdf files\n",
    "from urchin import URDF\n",
    "\n",
    "# this package provides several solvers for solving quadratic programmes\n",
    "import qpsolvers as qp \n",
    "\n",
    "# modern robotics code library accompanying \n",
    "# Modern Robotics: Mechanics, Planning, and Control (Kevin Lynch and Frank Park)\n",
    "import modern_robotics as mr\n",
    "\n",
    "# the os package provides utilities for interacting with the operating system\n",
    "import os\n",
    "\n",
    "# import config \n",
    "from config.config import * \n",
    "from models.panda_model import *\n",
    "from planning.screw import *\n"
   ]
  },
  {
   "cell_type": "code",
   "execution_count": null,
   "metadata": {},
   "outputs": [
    {
     "data": {
      "text/plain": [
       "planning.screw.Screw"
      ]
     },
     "execution_count": 22,
     "metadata": {},
     "output_type": "execute_result"
    }
   ],
   "source": []
  },
  {
   "cell_type": "code",
   "execution_count": 75,
   "metadata": {},
   "outputs": [
    {
     "name": "stdout",
     "output_type": "stream",
     "text": [
      " 0.7071 < -0.0000, -0.0000, -0.7071 > + ε  0.0000 < -0.0000, -0.0000, -0.0000 >\n"
     ]
    }
   ],
   "source": [
    "screw = Screw(theta=np.pi/2, d=0, u=np.array([0, 0, 1]), r=np.array([0, 0, 0]))\n",
    "dquat = screw.dquat()\n",
    "\n",
    "print(dquat.conj())"
   ]
  },
  {
   "cell_type": "code",
   "execution_count": 73,
   "metadata": {},
   "outputs": [
    {
     "ename": "AttributeError",
     "evalue": "'UnitQuaternion' object has no attribute 'x'",
     "output_type": "error",
     "traceback": [
      "\u001b[0;31m---------------------------------------------------------------------------\u001b[0m",
      "\u001b[0;31mAttributeError\u001b[0m                            Traceback (most recent call last)",
      "Cell \u001b[0;32mIn[73], line 4\u001b[0m\n\u001b[1;32m      1\u001b[0m dualq \u001b[38;5;241m=\u001b[39m sm\u001b[38;5;241m.\u001b[39mUnitDualQuaternion(sm\u001b[38;5;241m.\u001b[39mSE3([\u001b[38;5;241m-\u001b[39m\u001b[38;5;241m0.5\u001b[39m, \u001b[38;5;241m0.5\u001b[39m, \u001b[38;5;241m0.5\u001b[39m]))\n\u001b[1;32m      2\u001b[0m dualq2 \u001b[38;5;241m=\u001b[39m sm\u001b[38;5;241m.\u001b[39mUnitDualQuaternion(sm\u001b[38;5;241m.\u001b[39mSE3([\u001b[38;5;241m1\u001b[39m, \u001b[38;5;241m2\u001b[39m, \u001b[38;5;241m3\u001b[39m]))\n\u001b[0;32m----> 4\u001b[0m sclerp \u001b[38;5;241m=\u001b[39m \u001b[43msclerp\u001b[49m\u001b[43m(\u001b[49m\u001b[43mdualq\u001b[49m\u001b[43m,\u001b[49m\u001b[43m \u001b[49m\u001b[43mdualq2\u001b[49m\u001b[43m,\u001b[49m\u001b[43m \u001b[49m\u001b[38;5;241;43m0.5\u001b[39;49m\u001b[43m)\u001b[49m\n",
      "File \u001b[0;32m~/repos/IJRR/Screw-Panda/planning/screw.py:111\u001b[0m, in \u001b[0;36msclerp\u001b[0;34m(dq1, dq2, s)\u001b[0m\n\u001b[1;32m    108\u001b[0m dq12 \u001b[38;5;241m=\u001b[39m dq1\u001b[38;5;241m.\u001b[39mconj() \u001b[38;5;241m*\u001b[39m dq2\n\u001b[1;32m    110\u001b[0m \u001b[38;5;66;03m# Extract screw parameters from dq12\u001b[39;00m\n\u001b[0;32m--> 111\u001b[0m screw12 \u001b[38;5;241m=\u001b[39m \u001b[43mdual_quaternion_to_screw\u001b[49m\u001b[43m(\u001b[49m\u001b[43mdq12\u001b[49m\u001b[43m)\u001b[49m\n\u001b[1;32m    113\u001b[0m \u001b[38;5;66;03m# Create a new screw with scaled parameters\u001b[39;00m\n\u001b[1;32m    114\u001b[0m scaled_screw \u001b[38;5;241m=\u001b[39m Screw(\n\u001b[1;32m    115\u001b[0m     theta\u001b[38;5;241m=\u001b[39ms \u001b[38;5;241m*\u001b[39m screw12\u001b[38;5;241m.\u001b[39mtheta,\n\u001b[1;32m    116\u001b[0m     d\u001b[38;5;241m=\u001b[39ms \u001b[38;5;241m*\u001b[39m screw12\u001b[38;5;241m.\u001b[39md,\n\u001b[1;32m    117\u001b[0m     u\u001b[38;5;241m=\u001b[39mscrew12\u001b[38;5;241m.\u001b[39mu,\n\u001b[1;32m    118\u001b[0m     m\u001b[38;5;241m=\u001b[39mscrew12\u001b[38;5;241m.\u001b[39mm\n\u001b[1;32m    119\u001b[0m )\n",
      "File \u001b[0;32m~/repos/IJRR/Screw-Panda/planning/screw.py:143\u001b[0m, in \u001b[0;36mdual_quaternion_to_screw\u001b[0;34m(dq)\u001b[0m\n\u001b[1;32m    140\u001b[0m qd \u001b[38;5;241m=\u001b[39m dq\u001b[38;5;241m.\u001b[39mdual\n\u001b[1;32m    142\u001b[0m \u001b[38;5;66;03m# Extract rotation parameters\u001b[39;00m\n\u001b[0;32m--> 143\u001b[0m qr_v \u001b[38;5;241m=\u001b[39m np\u001b[38;5;241m.\u001b[39marray([\u001b[43mqr\u001b[49m\u001b[38;5;241;43m.\u001b[39;49m\u001b[43mx\u001b[49m, qr\u001b[38;5;241m.\u001b[39my, qr\u001b[38;5;241m.\u001b[39mz])\n\u001b[1;32m    144\u001b[0m qr_w \u001b[38;5;241m=\u001b[39m qr\u001b[38;5;241m.\u001b[39mw\n\u001b[1;32m    145\u001b[0m qr_v_norm \u001b[38;5;241m=\u001b[39m np\u001b[38;5;241m.\u001b[39mlinalg\u001b[38;5;241m.\u001b[39mnorm(qr_v)\n",
      "\u001b[0;31mAttributeError\u001b[0m: 'UnitQuaternion' object has no attribute 'x'"
     ]
    }
   ],
   "source": [
    "dualq = sm.UnitDualQuaternion(sm.SE3([-0.5, 0.5, 0.5]))\n",
    "dualq2 = sm.UnitDualQuaternion(sm.SE3([1, 2, 3]))\n",
    "\n",
    "sclerp = sclerp(dualq, dualq2, 0.5)"
   ]
  },
  {
   "cell_type": "code",
   "execution_count": null,
   "metadata": {},
   "outputs": [],
   "source": [
    "def init_env():\n",
    "    # Make the environment\n",
    "    env = Swift()\n",
    "    env.launch(realtime=True, browser=\"notebook\")\n",
    "    \n",
    "    # import robot\n",
    "    panda_virtual = create_virtual_panda()\n",
    "    # set the robot config to ready position\n",
    "    panda_virtual.q = panda_virtual.qr\n",
    "    # open the fingers\n",
    "    panda_virtual.grippers[0].q = [0.035, 0.035]\n",
    "    \n",
    "    # create object to grasp\n",
    "    box = sg.Cuboid(scale=[0.1, 0.07, 0.03],\n",
    "                    color='blue')\n",
    "    box.T = sm.SE3(0.7, 0, 0.015)\n",
    "    box.set_alpha(0.5)\n",
    "    \n",
    "\n",
    "    # Set a desired and effector pose an an offset from the current end-effector pose\n",
    "    bTe = sm.SE3(-box.scale[0]/2 + 0.01, 0, 0) * sm.SE3.Rx(np.pi/2)\n",
    "    Tep = box.T * bTe\n",
    "    \n",
    "    \n",
    "    # end-effector axes\n",
    "    ee_axes = sg.Axes(0.1)\n",
    "    ee_axes.T = panda_virtual.fkine(panda_virtual.q, end='panda_finger_virtual')\n",
    "\n",
    "    # goal axes\n",
    "    goal_axes = sg.Axes(0.1)\n",
    "    # Set the goal axes to Tep\n",
    "    goal_axes.T = Tep\n",
    "    \n",
    "    # add to environment\n",
    "    \n",
    "    env.add(panda_virtual)\n",
    "    env.add(box)\n",
    "    env.add(ee_axes)\n",
    "    env.add(goal_axes)\n",
    "    \n",
    "    return env, Tep, panda_virtual, ee_axes, goal_axes\n"
   ]
  },
  {
   "cell_type": "code",
   "execution_count": null,
   "metadata": {},
   "outputs": [
    {
     "data": {
      "text/html": [
       "\n",
       "        <iframe\n",
       "            width=\"600\"\n",
       "            height=\"400\"\n",
       "            src=\"http://localhost:52033/?53033\"\n",
       "            frameborder=\"0\"\n",
       "            allowfullscreen\n",
       "            \n",
       "        ></iframe>\n",
       "        "
      ],
      "text/plain": [
       "<IPython.lib.display.IFrame at 0x7fce24e10eb0>"
      ]
     },
     "metadata": {},
     "output_type": "display_data"
    }
   ],
   "source": [
    "env, Tep, panda_virtual, ee_axes, goal_axes = init_env()\n",
    "\n",
    "# Simulate the robot while it has not arrived at the goal\n",
    "arrived = False\n",
    "while not arrived:\n",
    "\n",
    "    # Work out the required end-effector velocity to go towards the goal\n",
    "    Te = panda_virtual.fkine(panda_virtual.q, end='panda_finger_virtual')\n",
    "    ee_axes.T = Te\n",
    "    v, arrived = rtb.p_servo(Te, Tep, threshold=0.001)\n",
    "    \n",
    "    # Set the Panda's joint velocities\n",
    "    panda_virtual.qd = np.linalg.pinv(panda_virtual.jacobe(panda_virtual.q, end='panda_finger_virtual')) @ v\n",
    "    \n",
    "    # Step the simulator by 50 milliseconds\n",
    "    env.step(0.05)\n"
   ]
  },
  {
   "cell_type": "code",
   "execution_count": 113,
   "metadata": {},
   "outputs": [
    {
     "data": {
      "text/plain": [
       "IKSolution(q=array([-0.94249315,  1.15665915,  0.88906795, -1.90294011, -2.83780795,\n",
       "        2.58991226,  2.77861967, -0.93748292]), success=True, iterations=633, searches=25, residual=8.826470250498193e-07, reason='Success')"
      ]
     },
     "execution_count": 113,
     "metadata": {},
     "output_type": "execute_result"
    }
   ],
   "source": [
    "from utils.ik_jl import *\n",
    "\n",
    "ets = panda_virtual.ets(end='panda_finger_virtual')\n",
    "iksolver = IK_JL(ets, k0=[2]*7 + [0])\n",
    "\n",
    "iksol = iksolver.solve(ets=ets, Tep=Tep)\n",
    "\n",
    "iksol"
   ]
  },
  {
   "cell_type": "code",
   "execution_count": 165,
   "metadata": {},
   "outputs": [],
   "source": [
    "def secondary_object(robot: rtb.Robot, q: np.ndarray) -> np.ndarray:\n",
    "    \"\"\"\n",
    "    Calculate the gradient of the joint limit avoidance function\n",
    "\n",
    "    Parameters\n",
    "    ----------\n",
    "    robot\n",
    "        The robot the manipulators kinematics\n",
    "    q\n",
    "        The current joint coordinate vector\n",
    "\n",
    "    Returns\n",
    "    -------\n",
    "    dw_dq\n",
    "        The gradient of the joint limit avoidance function\n",
    "    \"\"\"\n",
    "    n = robot.n\n",
    "    qlim = robot.qlim\n",
    "    \n",
    "    q_mid = (qlim[1] + qlim[0]) / 2\n",
    "    q_range = qlim[1] - qlim[0]\n",
    "    \n",
    "    \n",
    "    # Vectorized calculation with singularity protection\n",
    "    with np.errstate(divide='ignore', invalid='ignore'):\n",
    "        dw_dq = -1/n * (q - q_mid) / (q_range)**2\n",
    "        \n",
    "    # Handle unlimited joints (range = 0)\n",
    "    dw_dq[np.isinf(dw_dq)] = 0  \n",
    "    dw_dq[np.isnan(dw_dq)] = 0\n",
    "    \n",
    "    return dw_dq"
   ]
  },
  {
   "cell_type": "code",
   "execution_count": null,
   "metadata": {},
   "outputs": [],
   "source": []
  },
  {
   "cell_type": "code",
   "execution_count": 208,
   "metadata": {},
   "outputs": [
    {
     "data": {
      "text/html": [
       "\n",
       "        <iframe\n",
       "            width=\"600\"\n",
       "            height=\"400\"\n",
       "            src=\"http://localhost:52052/?53052\"\n",
       "            frameborder=\"0\"\n",
       "            allowfullscreen\n",
       "            \n",
       "        ></iframe>\n",
       "        "
      ],
      "text/plain": [
       "<IPython.lib.display.IFrame at 0x7fcd9c6e9120>"
      ]
     },
     "metadata": {},
     "output_type": "display_data"
    }
   ],
   "source": [
    "env, Tep, panda_virtual, ee_axes, goal_axes = init_env()\n",
    "dt = 0.05\n",
    "arrived = False\n",
    "# Specify the gain for the p_servo method\n",
    "kt = 1.5\n",
    "kr = 1.0\n",
    "k = np.array([kt, kt, kt, kr, kr, kr])\n",
    "n = panda_virtual.n\n",
    "\n",
    "# gain for the joint limit avoidance\n",
    "k0 = 1\n",
    "\n",
    "\n",
    "Vep = np.zeros(6)\n",
    "\n",
    "# Run the simulation until the robot arrives at the goal\n",
    "while not arrived:\n",
    "\n",
    "    # Work out the base frame manipulator Jacobian using the current robot configuration\n",
    "    J = panda_virtual.jacobe(panda_virtual.q, end='panda_finger_virtual')\n",
    "    J_pinv = np.linalg.pinv(J)\n",
    "\n",
    "    # The end-effector pose of the panda (using .A to get a numpy array instead of an SE3 object)\n",
    "    Te = panda_virtual.fkine(panda_virtual.q, end='panda_finger_virtual').A\n",
    "\n",
    "    # Calculate the required end-effector velocity and whether the robot has arrived\n",
    "    ev, arrived = rtb.p_servo(Te, Tep, gain=k, threshold=0.001, method=\"twist\")\n",
    "\n",
    "\n",
    "    dw_dq = secondary_object(panda_virtual, panda_virtual.q)\n",
    "    \n",
    "    q0 = k0 * dw_dq\n",
    "    qd = J_pinv @ (Vep + ev) + (np.eye(n) - J_pinv @ J) @ q0\n",
    "    \n",
    "    # Apply the joint velocities to the Panda\n",
    "    panda_virtual.qd[:n] = qd[:n]\n",
    "\n",
    "    # Update the ee axes\n",
    "    ee_axes.T = Te\n",
    "\n",
    "    # Step the simulator by dt seconds\n",
    "    env.step(dt)"
   ]
  },
  {
   "cell_type": "code",
   "execution_count": 204,
   "metadata": {},
   "outputs": [
    {
     "data": {
      "text/plain": [
       "(array([[ 9.99999559e-01, -9.39403932e-04,  1.95064736e-07,\n",
       "          6.59996165e-01],\n",
       "        [ 1.95278604e-07,  2.27571650e-07, -1.00000000e+00,\n",
       "          1.63529431e-08],\n",
       "        [ 9.39403932e-04,  9.99999559e-01,  2.27754995e-07,\n",
       "          1.50073512e-02],\n",
       "        [ 0.00000000e+00,  0.00000000e+00,  0.00000000e+00,\n",
       "          1.00000000e+00]]),\n",
       " array([[ 1.000000e+00,  0.000000e+00,  0.000000e+00,  6.600000e-01],\n",
       "        [ 0.000000e+00,  6.123234e-17, -1.000000e+00,  0.000000e+00],\n",
       "        [ 0.000000e+00,  1.000000e+00,  6.123234e-17,  1.500000e-02],\n",
       "        [ 0.000000e+00,  0.000000e+00,  0.000000e+00,  1.000000e+00]]))"
      ]
     },
     "execution_count": 204,
     "metadata": {},
     "output_type": "execute_result"
    }
   ],
   "source": [
    "Te, Tep"
   ]
  },
  {
   "cell_type": "code",
   "execution_count": null,
   "metadata": {},
   "outputs": [
    {
     "data": {
      "text/plain": [
       "(array([ 6.60004115e-01,  1.14770391e-02,  1.16101651e-02,  1.57079597e+00,\n",
       "        -7.37664909e-04,  7.37947502e-04]),\n",
       " array([[ 0.00000000e+00, -7.37947502e-04, -7.37664909e-04,\n",
       "          6.60004115e-01],\n",
       "        [ 7.37947502e-04,  0.00000000e+00, -1.57079597e+00,\n",
       "          1.14770391e-02],\n",
       "        [ 7.37664909e-04,  1.57079597e+00,  0.00000000e+00,\n",
       "          1.16101651e-02],\n",
       "        [ 0.00000000e+00,  0.00000000e+00,  0.00000000e+00,\n",
       "          0.00000000e+00]]),\n",
       " array([ 1.57079597e+00, -7.37664909e-04,  7.37947502e-04,  6.60004115e-01,\n",
       "         1.14770391e-02,  1.16101651e-02]))"
      ]
     },
     "execution_count": 199,
     "metadata": {},
     "output_type": "execute_result"
    }
   ],
   "source": [
    "ev, arrived = rtb.p_servo(Te, Tep, gain=k, threshold=0.001, method=\"rpy\")"
   ]
  },
  {
   "cell_type": "code",
   "execution_count": null,
   "metadata": {},
   "outputs": [],
   "source": [
    "# import genesis as gs\n",
    "\n",
    "# gs.init(backend=gs.cuda)\n",
    "\n",
    "# scene = gs.Scene(\n",
    "#     show_viewer = True,\n",
    "#     viewer_options = gs.options.ViewerOptions(\n",
    "#         res           = (1280, 960),\n",
    "#         camera_pos    = (3.5, 0.0, 2.5),\n",
    "#         camera_lookat = (0.0, 0.0, 0.5),\n",
    "#         camera_fov    = 40,\n",
    "#         max_FPS       = 60,\n",
    "#     ),\n",
    "#     vis_options = gs.options.VisOptions(\n",
    "#         show_world_frame = True,\n",
    "#         world_frame_size = 1.0,\n",
    "#         show_link_frame  = False,\n",
    "#         show_cameras     = False,\n",
    "#         plane_reflection = True,\n",
    "#         ambient_light    = (0.1, 0.1, 0.1),\n",
    "#     ),\n",
    "#     renderer=gs.renderers.Rasterizer(),\n",
    "# )\n",
    "\n",
    "# plane = scene.add_entity(\n",
    "#     gs.morphs.Plane(),\n",
    "# )\n",
    "# franka = scene.add_entity(\n",
    "#     gs.morphs.MJCF(file='xml/franka_emika_panda/panda.xml'),\n",
    "# )\n",
    "\n",
    "# cam = scene.add_camera(\n",
    "#     res    = (640, 480),\n",
    "#     pos    = (3.5, 0.0, 2.5),\n",
    "#     lookat = (0, 0, 0.5),\n",
    "#     fov    = 30,\n",
    "#     GUI    = False,\n",
    "# )\n",
    "\n",
    "# scene.build()\n",
    "\n",
    "# # render rgb, depth, segmentation, and normal\n",
    "# # rgb, depth, segmentation, normal = cam.render(rgb=True, depth=True, segmentation=True, normal=True)\n",
    "\n",
    "# cam.start_recording()\n",
    "# import numpy as np\n",
    "\n",
    "# for i in range(120):\n",
    "#     scene.step()\n",
    "#     cam.set_pose(\n",
    "#         pos    = (3.0 * np.sin(i / 60), 3.0 * np.cos(i / 60), 2.5),\n",
    "#         lookat = (0, 0, 0.5),\n",
    "#     )\n",
    "#     cam.render()\n",
    "# cam.stop_recording(save_to_filename='video.mp4', fps=60)"
   ]
  },
  {
   "cell_type": "code",
   "execution_count": null,
   "metadata": {},
   "outputs": [],
   "source": [
    "# import numpy as np\n",
    "# import genesis as gs\n",
    "\n",
    "# ########################## init ##########################\n",
    "# gs.init(backend=gs.cuda)\n",
    "\n",
    "# ########################## create a scene ##########################\n",
    "# scene = gs.Scene(\n",
    "#     show_viewer = True,\n",
    "#     viewer_options = gs.options.ViewerOptions(\n",
    "#         res           = (1280, 960),\n",
    "#         camera_pos    = (3.5, 0.0, 2.5),\n",
    "#         camera_lookat = (0.0, 0.0, 0.5),\n",
    "#         camera_fov    = 40,\n",
    "#         max_FPS       = 60,\n",
    "#     ),\n",
    "#     vis_options = gs.options.VisOptions(\n",
    "#         show_world_frame = True,\n",
    "#         world_frame_size = 1.0,\n",
    "#         show_link_frame  = False,\n",
    "#         show_cameras     = False,\n",
    "#         plane_reflection = True,\n",
    "#         ambient_light    = (0.1, 0.1, 0.1),\n",
    "#     ),\n",
    "#     renderer=gs.renderers.Rasterizer(),\n",
    "# )\n",
    "\n",
    "# cam = scene.add_camera(\n",
    "#     res    = (640, 480),\n",
    "#     pos    = (3.5, 0.0, 2.5),\n",
    "#     lookat = (0, 0, 0.5),\n",
    "#     fov    = 30,\n",
    "#     GUI    = False,\n",
    "# )\n",
    "\n",
    "\n",
    "# ########################## entities ##########################\n",
    "# plane = scene.add_entity(\n",
    "#     gs.morphs.Plane(),\n",
    "# )\n",
    "# cube = scene.add_entity(\n",
    "#     gs.morphs.Box(\n",
    "#         size = (0.04, 0.04, 0.04),\n",
    "#         pos  = (0.65, 0.0, 0.02),\n",
    "#     )\n",
    "# )\n",
    "# franka = scene.add_entity(\n",
    "#     gs.morphs.MJCF(file='xml/franka_emika_panda/panda.xml'),\n",
    "# )\n",
    "# ########################## build ##########################\n",
    "# scene.build()\n",
    "\n",
    "# motors_dof = np.arange(7)\n",
    "# fingers_dof = np.arange(7, 9)\n",
    "\n",
    "# # set control gains\n",
    "# # Note: the following values are tuned for achieving best behavior with Franka\n",
    "# # Typically, each new robot would have a different set of parameters.\n",
    "# # Sometimes high-quality URDF or XML file would also provide this and will be parsed.\n",
    "# franka.set_dofs_kp(\n",
    "#     np.array([4500, 4500, 3500, 3500, 2000, 2000, 2000, 100, 100]),\n",
    "# )\n",
    "# franka.set_dofs_kv(\n",
    "#     np.array([450, 450, 350, 350, 200, 200, 200, 10, 10]),\n",
    "# )\n",
    "# franka.set_dofs_force_range(\n",
    "#     np.array([-87, -87, -87, -87, -12, -12, -12, -100, -100]),\n",
    "#     np.array([ 87,  87,  87,  87,  12,  12,  12,  100,  100]),\n",
    "# )"
   ]
  },
  {
   "cell_type": "code",
   "execution_count": null,
   "metadata": {},
   "outputs": [],
   "source": [
    "\n",
    "# # get the end-effector link\n",
    "# end_effector = franka.get_link('hand')\n",
    "\n",
    "# # move to pre-grasp pose\n",
    "# qpos = franka.inverse_kinematics(\n",
    "#     link = end_effector,\n",
    "#     pos  = np.array([0.65, 0.0, 0.25]),\n",
    "#     quat = np.array([0, 1, 0, 0]),\n",
    "# )\n",
    "# # gripper open pos\n",
    "# qpos[-2:] = 0.04\n",
    "# path = franka.plan_path(\n",
    "#     qpos_goal     = qpos,\n",
    "#     num_waypoints = 200, # 2s duration\n",
    "# )\n",
    "# # execute the planned path\n",
    "# for waypoint in path:\n",
    "#     franka.control_dofs_position(waypoint)\n",
    "#     scene.step()\n",
    "\n",
    "# # allow robot to reach the last waypoint\n",
    "# for i in range(100):\n",
    "#     scene.step()\n",
    "# # reach\n",
    "# qpos = franka.inverse_kinematics(\n",
    "#     link = end_effector,\n",
    "#     pos  = np.array([0.65, 0.0, 0.130]),\n",
    "#     quat = np.array([0, 1, 0, 0]),\n",
    "# )\n",
    "# franka.control_dofs_position(qpos[:-2], motors_dof)\n",
    "# for i in range(100):\n",
    "#     scene.step()\n",
    "\n",
    "# # grasp\n",
    "# franka.control_dofs_position(qpos[:-2], motors_dof)\n",
    "# franka.control_dofs_force(np.array([-0.5, -0.5]), fingers_dof)\n",
    "\n",
    "# for i in range(100):\n",
    "#     scene.step()\n",
    "\n",
    "# # lift\n",
    "# qpos = franka.inverse_kinematics(\n",
    "#     link=end_effector,\n",
    "#     pos=np.array([0.65, 0.0, 0.28]),\n",
    "#     quat=np.array([0, 1, 0, 0]),\n",
    "# )\n",
    "# franka.control_dofs_position(qpos[:-2], motors_dof)\n",
    "# for i in range(200):\n",
    "#     scene.step()"
   ]
  }
 ],
 "metadata": {
  "kernelspec": {
   "display_name": "panda",
   "language": "python",
   "name": "python3"
  },
  "language_info": {
   "codemirror_mode": {
    "name": "ipython",
    "version": 3
   },
   "file_extension": ".py",
   "mimetype": "text/x-python",
   "name": "python",
   "nbconvert_exporter": "python",
   "pygments_lexer": "ipython3",
   "version": "3.10.16"
  }
 },
 "nbformat": 4,
 "nbformat_minor": 4
}
