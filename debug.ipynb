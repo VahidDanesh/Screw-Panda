{
 "cells": [
  {
   "cell_type": "code",
   "execution_count": 1,
   "metadata": {},
   "outputs": [],
   "source": [
    "# We will do the imports required for this notebook here\n",
    "%load_ext autoreload\n",
    "%autoreload 2\n",
    "# numpy provides import array and linear algebra utilities\n",
    "import numpy as np\n",
    "\n",
    "# the robotics toolbox provides robotics specific functionality\n",
    "import roboticstoolbox as rtb\n",
    "\n",
    "# spatial math provides objects for representing transformations\n",
    "import spatialmath as sm\n",
    "\n",
    "# swift is a lightweight browser-based simulator which comes eith the toolbox\n",
    "from swift import Swift\n",
    "\n",
    "# spatialgeometry is a utility package for dealing with geometric objects\n",
    "import spatialgeometry as sg\n",
    "\n",
    "# import urchin to read urdf files\n",
    "from urchin import URDF\n",
    "\n",
    "# this package provides several solvers for solving quadratic programmes\n",
    "import qpsolvers as qp \n",
    "\n",
    "# modern robotics code library accompanying \n",
    "# Modern Robotics: Mechanics, Planning, and Control (Kevin Lynch and Frank Park)\n",
    "import modern_robotics as mr\n",
    "\n",
    "# the os package provides utilities for interacting with the operating system\n",
    "import os\n",
    "\n",
    "# import config \n",
    "from config.config import * \n",
    "from models.panda_model import *\n",
    "from planning.screw import *\n",
    "import pytransform3d as pt3d"
   ]
  },
  {
   "cell_type": "code",
   "execution_count": 27,
   "metadata": {},
   "outputs": [
    {
     "data": {
      "text/plain": [
       "(  \u001b[38;5;1m 1       \u001b[0m \u001b[38;5;1m 0       \u001b[0m \u001b[38;5;1m 0       \u001b[0m \u001b[38;5;4m 0.05    \u001b[0m  \u001b[0m\n",
       "  \u001b[38;5;1m 0       \u001b[0m \u001b[38;5;1m 0       \u001b[0m \u001b[38;5;1m-1       \u001b[0m \u001b[38;5;4m 0.015   \u001b[0m  \u001b[0m\n",
       "  \u001b[38;5;1m 0       \u001b[0m \u001b[38;5;1m 1       \u001b[0m \u001b[38;5;1m 0       \u001b[0m \u001b[38;5;4m 0.035   \u001b[0m  \u001b[0m\n",
       "  \u001b[38;5;244m 0       \u001b[0m \u001b[38;5;244m 0       \u001b[0m \u001b[38;5;244m 0       \u001b[0m \u001b[38;5;244m 1       \u001b[0m  \u001b[0m\n",
       ",\n",
       "   \u001b[38;5;1m 1       \u001b[0m \u001b[38;5;1m 0       \u001b[0m \u001b[38;5;1m 0       \u001b[0m \u001b[38;5;4m 0.05    \u001b[0m  \u001b[0m\n",
       "  \u001b[38;5;1m 0       \u001b[0m \u001b[38;5;1m 0       \u001b[0m \u001b[38;5;1m-1       \u001b[0m \u001b[38;5;4m 0.035   \u001b[0m  \u001b[0m\n",
       "  \u001b[38;5;1m 0       \u001b[0m \u001b[38;5;1m 1       \u001b[0m \u001b[38;5;1m 0       \u001b[0m \u001b[38;5;4m-0.015   \u001b[0m  \u001b[0m\n",
       "  \u001b[38;5;244m 0       \u001b[0m \u001b[38;5;244m 0       \u001b[0m \u001b[38;5;244m 0       \u001b[0m \u001b[38;5;244m 1       \u001b[0m  \u001b[0m\n",
       ",\n",
       " array([ 0.05 ,  0.035, -0.015]))"
      ]
     },
     "execution_count": 27,
     "metadata": {},
     "output_type": "execute_result"
    }
   ],
   "source": [
    "\n",
    "hl, hw, hh = 0.1/2, 0.07/2, 0.03/2\n",
    "# 8 corners of the box\n",
    "corners = [\n",
    "    (-hl, hw, -hh),     # 0: back-left-bottom\n",
    "    (-hl, -hw, -hh),    # 1: back-right-bottom\n",
    "    (hl, -hw, -hh),     # 2: front-right-bottom\n",
    "    (hl, hw, -hh),     # 3: front-left-bottom\n",
    "    (-hl, hw, hh),      # 4: back-left-top\n",
    "    (-hl, -hw, hh),     # 5: back-right-top\n",
    "    (hl, -hw, hh),      # 6: front-right-top\n",
    "    (hl, hw, hh)        # 7: front-left-top\n",
    "]\n",
    "\n",
    "\n",
    "# 12 edges defined by pairs of corner indices\n",
    "edge_indices = [\n",
    "    (0, 1), (1, 2), (2, 3), (3, 0),  # bottom face\n",
    "    (4, 5), (5, 6), (6, 7), (7, 4),  # top face\n",
    "    (0, 4), (1, 5), (2, 6), (3, 7)   # connecting edges\n",
    "]\n",
    "\n",
    "edges = [(np.array(corners[i]), np.array(corners[j])) for i, j in edge_indices]\n",
    "\n",
    "start, end = edges[3]\n",
    "start, end\n",
    "wTb = sm.SE3(0.7, 0, 0.015)\n",
    "wTb * end, start\n",
    "\n",
    "# create object to grasp\n",
    "box = sg.Cuboid(scale=[0.1, 0.07, 0.03],\n",
    "                color='blue')\n",
    "box.T = sm.SE3(0.7, 0, 0.015)\n",
    "box.set_alpha(0.5)\n",
    "\n",
    "pose = SE3(box.T) * sm.SE3.Rx(np.pi/2)\n",
    "\n",
    "SE3(sm.SO3(pose.R))  * SE3(start), SE3(start) * SE3(sm.SO3(pose.R)), start"
   ]
  }
 ],
 "metadata": {
  "kernelspec": {
   "display_name": "panda",
   "language": "python",
   "name": "python3"
  },
  "language_info": {
   "codemirror_mode": {
    "name": "ipython",
    "version": 3
   },
   "file_extension": ".py",
   "mimetype": "text/x-python",
   "name": "python",
   "nbconvert_exporter": "python",
   "pygments_lexer": "ipython3",
   "version": "3.10.16"
  }
 },
 "nbformat": 4,
 "nbformat_minor": 2
}
