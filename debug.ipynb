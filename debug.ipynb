{
 "cells": [
  {
   "cell_type": "code",
   "execution_count": 1,
   "metadata": {},
   "outputs": [],
   "source": [
    "# We will do the imports required for this notebook here\n",
    "%load_ext autoreload\n",
    "%autoreload 2\n",
    "# numpy provides import array and linear algebra utilities\n",
    "import numpy as np\n",
    "\n",
    "# the robotics toolbox provides robotics specific functionality\n",
    "import roboticstoolbox as rtb\n",
    "\n",
    "# spatial math provides objects for representing transformations\n",
    "import spatialmath as sm\n",
    "\n",
    "# swift is a lightweight browser-based simulator which comes eith the toolbox\n",
    "from swift import Swift\n",
    "\n",
    "# spatialgeometry is a utility package for dealing with geometric objects\n",
    "import spatialgeometry as sg\n",
    "\n",
    "# import urchin to read urdf files\n",
    "from urchin import URDF\n",
    "\n",
    "# this package provides several solvers for solving quadratic programmes\n",
    "import qpsolvers as qp \n",
    "\n",
    "# modern robotics code library accompanying \n",
    "# Modern Robotics: Mechanics, Planning, and Control (Kevin Lynch and Frank Park)\n",
    "import modern_robotics as mr\n",
    "\n",
    "# the os package provides utilities for interacting with the operating system\n",
    "import os\n",
    "\n",
    "# import config \n",
    "from config.config import * \n",
    "from models.panda_model import *\n",
    "\n",
    "import pytransform3d as pt3d"
   ]
  },
  {
   "cell_type": "code",
   "execution_count": 10,
   "metadata": {},
   "outputs": [
    {
     "data": {
      "text/plain": [
       "  \u001b[38;5;1m 0.866   \u001b[0m \u001b[38;5;1m 0.5     \u001b[0m \u001b[38;5;1m 0       \u001b[0m \u001b[38;5;4m-0.0866  \u001b[0m  \u001b[0m\n",
       "  \u001b[38;5;1m-0.25    \u001b[0m \u001b[38;5;1m 0.433   \u001b[0m \u001b[38;5;1m 0.866   \u001b[0m \u001b[38;5;4m 0.025   \u001b[0m  \u001b[0m\n",
       "  \u001b[38;5;1m 0.433   \u001b[0m \u001b[38;5;1m-0.75    \u001b[0m \u001b[38;5;1m 0.5     \u001b[0m \u001b[38;5;4m-0.0433  \u001b[0m  \u001b[0m\n",
       "  \u001b[38;5;244m 0       \u001b[0m \u001b[38;5;244m 0       \u001b[0m \u001b[38;5;244m 0       \u001b[0m \u001b[38;5;244m 1       \u001b[0m  \u001b[0m\n"
      ]
     },
     "execution_count": 10,
     "metadata": {},
     "output_type": "execute_result"
    }
   ],
   "source": [
    "R = sm.SO3.RPY(np.pi/3, 0, np.pi/6)\n",
    "start = SE3.Rt(R, np.array([0.1, 0, 0]))\n",
    "\n",
    "start.inv()"
   ]
  },
  {
   "cell_type": "code",
   "execution_count": 47,
   "metadata": {},
   "outputs": [
    {
     "data": {
      "text/html": [
       "\n",
       "        <iframe\n",
       "            width=\"600\"\n",
       "            height=\"400\"\n",
       "            src=\"http://localhost:52009/?53009\"\n",
       "            frameborder=\"0\"\n",
       "            allowfullscreen\n",
       "            \n",
       "        ></iframe>\n",
       "        "
      ],
      "text/plain": [
       "<IPython.lib.display.IFrame at 0x7fd01431add0>"
      ]
     },
     "metadata": {},
     "output_type": "display_data"
    },
    {
     "data": {
      "text/plain": [
       "2"
      ]
     },
     "execution_count": 47,
     "metadata": {},
     "output_type": "execute_result"
    }
   ],
   "source": [
    "radius = 0.037\n",
    "height = 0.234\n",
    "\n",
    "cylinder = sg.Cylinder(radius=radius, length=height, \n",
    "                       pose=SE3(0.1, 0, height/2) * SE3.Rx(np.pi/6), color='purple')\n",
    "cylinder.set_alpha(0.5)\n",
    "env = Swift()\n",
    "wTc = sg.Axes(length=0.1)\n",
    "wTc.T = cylinder.T\n",
    "env.launch(realtime=True, browser=\"notebook\")\n",
    "env.add(cylinder)\n",
    "env.add(wTc)\n",
    "env.add(box)"
   ]
  },
  {
   "cell_type": "code",
   "execution_count": 50,
   "metadata": {},
   "outputs": [
    {
     "data": {
      "text/plain": [
       "array([[ 0.       ],\n",
       "       [-0.5      ],\n",
       "       [ 0.8660254]])"
      ]
     },
     "execution_count": 50,
     "metadata": {},
     "output_type": "execute_result"
    }
   ],
   "source": [
    "sm.SO3(SE3(cylinder.T).R) * np.array([0, 0, 1])"
   ]
  }
 ],
 "metadata": {
  "kernelspec": {
   "display_name": "panda",
   "language": "python",
   "name": "python3"
  },
  "language_info": {
   "codemirror_mode": {
    "name": "ipython",
    "version": 3
   },
   "file_extension": ".py",
   "mimetype": "text/x-python",
   "name": "python",
   "nbconvert_exporter": "python",
   "pygments_lexer": "ipython3",
   "version": "3.10.16"
  }
 },
 "nbformat": 4,
 "nbformat_minor": 2
}
